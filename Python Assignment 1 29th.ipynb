{
 "cells": [
  {
   "cell_type": "code",
   "execution_count": null,
   "id": "2054c500-f5b4-41a4-8bac-c0b70d356ae8",
   "metadata": {},
   "outputs": [],
   "source": [
    "                                         Python Assignment 1\n",
    "1) who developed python programmin Language?\n",
    "-> Python was developed by Guido van Rossum.\n",
    "\n",
    "2) Which type of Programming does Pyton support?\n",
    "-> Python is an interpreted programming language, upporting object-oriented, structured, and functional programming.\n",
    "\n",
    "3. is Python case senstive when dealing with identifers?\n",
    "-> Yes, Python is a case-sensitive language, i.e.it treats uppercase and lowercase characters differently. This applies to identifiers too. You must avoid using the same name with different cases while naming identifiers.\n",
    "\n",
    "4. is python code complied or intrerrpreted?\n",
    "->Python is an interpreted language.\n",
    "\n",
    "5. Name a few blocks of code used to define in python language?\n",
    "-> The following are blocks: a module, a function body, and a class definition.\n",
    "\n",
    "6. State a charater used to give single-line comments in python?\n",
    "-> We can write a single-line comment by adding a single '#' character before any statement or line of code\n",
    "\n",
    "7. Mention functios which can help us to find the version of python that we are currently workking on?\n",
    "import sys\n",
    "print(sys.version)\n",
    "\n",
    "3.10.8 | packaged by conda-forge | (main, Nov 22 2022, 08:26:04) [GCC 10.4.0]\n",
    "from platform import python_version\n",
    "print(\"Current Python Version-\", python_version())\n",
    "Current Python Version- 3.10.8\n",
    "\n",
    "9.Python supports the creation of anonymous functions at runtime, using a construct called _____________ ->lambda\n",
    "\n",
    "10.What does pip stand for python -> PIP is a package manager for Python package . It is used to manage(Install, Uninstall, Update, etc) additional packages that are not part of the Python standard library.\n",
    "\n",
    "11.Mention a few built-in functions in Python? -> built-in functions given below abs() : Returns the absolute value of a number all() : Returns True if all items in an iterable object are true any() : Returns True if any item in an iterable object is true ascii() : Returns a readable version of an object. Replaces none-ascii characters with escape character bin() : Returns the binary version of a number bool() Returns the boolean value of the specified object bytearray() Returns an array of bytes bytes() Returns a bytes object callable() Returns True if the specified object is callable, otherwise False chr() Returns a character from the specified Unicode code. classmethod() Converts a method into a class method compile() Returns the specified source as an object, ready to be executed complex() Returns a complex number delattr() Deletes the specified attribute (property or method) from the specified object dict() Returns a dictionary (Array)\n",
    "\n",
    "12 What is the maximum possible length of an identifier in Python?\n",
    "-> An identifier can have a maximum length of 79 characters in Python\n",
    "\n",
    "13. What are the benefits of using Python?\n",
    "-> Python programming is powering the global job market because the benefits of Python are clear. Python is one of the top three programming languages in the world, and is poised to become the most popular, according to ZDNet.\n",
    "\n",
    "14. How is memory managed in Python?\n",
    "Memory management in Python involves a private heap containing all Python objects and data structures. The management of this private heap is ensured internally by the Python memory manager.\n",
    "\n",
    "15. How to install Python on Windows and set path variables?\n",
    "-> To install Python on Windows: Go to the official Python website (https://www.python.org/downloads/) and download the latest version of Python for Windows. Run the Python installation file and follow the on-screen instructions. Make sure to select the option to add Python to your PATH environment variable. To set the PATH environment variable:\n",
    "\n",
    "Right-click on the Windows Start button and select \"System\" or search for \"Environment Variables\" in the Windows search bar. Click on \"Environment Variables.\" Under \"System Variables,\" scroll down and find the \"Path\" variable, then click on \"Edit.\" Click on \"New\" and add the path to the Python installation (e.g., \"C:\\Python38\"). Click \"OK\" to close all windows and save the changes. Now you can open a Command Prompt window and run Python from any location on your computer\n",
    "\n",
    "16.Is indentation required In python?\n",
    "-> Indentation refers to the spaces at the beginning of a code line. Where in other programming languages the indentation in code is for readability only, the indentation in Python is very important. Python uses indentation to indicate a block of code."
   ]
  }
 ],
 "metadata": {
  "kernelspec": {
   "display_name": "Python 3 (ipykernel)",
   "language": "python",
   "name": "python3"
  },
  "language_info": {
   "codemirror_mode": {
    "name": "ipython",
    "version": 3
   },
   "file_extension": ".py",
   "mimetype": "text/x-python",
   "name": "python",
   "nbconvert_exporter": "python",
   "pygments_lexer": "ipython3",
   "version": "3.10.8"
  }
 },
 "nbformat": 4,
 "nbformat_minor": 5
}
